{
 "cells": [
  {
   "cell_type": "code",
   "execution_count": 7,
   "outputs": [],
   "source": [
    "import pickle"
   ],
   "metadata": {
    "collapsed": false,
    "pycharm": {
     "name": "#%%\n"
    }
   }
  },
  {
   "cell_type": "code",
   "execution_count": 19,
   "outputs": [],
   "source": [
    "with open('priced_options.pickle', 'rb') as f:\n",
    "    priced_options = pickle.load(f)"
   ],
   "metadata": {
    "collapsed": false,
    "pycharm": {
     "name": "#%%\n"
    }
   }
  },
  {
   "cell_type": "code",
   "execution_count": 20,
   "outputs": [
    {
     "data": {
      "text/plain": "         contractSymbol      price    ask\n37  AAPL220819C00155000  17.488901  17.25\n38  AAPL220819C00157500  15.778084  14.75\n39  AAPL220819C00160000  14.170606  12.25\n40  AAPL220819C00162500  12.669188   9.90\n41  AAPL220819C00165000  11.275236   7.45\n42  AAPL220819C00167500   9.988849   5.25\n43  AAPL220819C00170000   8.808873   3.30\n44  AAPL220819C00172500   7.732998   1.74\n45  AAPL220819C00175000   6.757877   0.74\n46  AAPL220819C00177500   5.879280   0.24\n47  AAPL220819C00180000   5.092253   0.08\n48  AAPL220819C00182500   4.391287   0.03\n49  AAPL220819C00185000   3.770479   0.02\n50  AAPL220819C00187500   3.223693   0.02\n51  AAPL220819C00190000   2.744700   0.02\n52  AAPL220819C00192500   2.327309   0.01\n53  AAPL220819C00195000   1.965468   0.01\n54  AAPL220819C00197500   1.653360   0.01\n55  AAPL220819C00200000   1.385465   0.01\n56  AAPL220819C00205000   0.962022   0.01\n57  AAPL220819C00210000   0.658483   0.01\n58  AAPL220819C00215000   0.444618   0.01\n59  AAPL220819C00220000   0.296362   0.01\n60  AAPL220819C00225000   0.195146   0.01\n61  AAPL220819C00230000   0.127026   0.01\n62  AAPL220819C00235000   0.081793   0.01\n63  AAPL220819C00240000   0.052132   0.01\n64  AAPL220819C00245000   0.032910   0.03\n65  AAPL220819C00250000   0.020589   0.01\n66  AAPL220819C00255000   0.012772   0.01",
      "text/html": "<div>\n<style scoped>\n    .dataframe tbody tr th:only-of-type {\n        vertical-align: middle;\n    }\n\n    .dataframe tbody tr th {\n        vertical-align: top;\n    }\n\n    .dataframe thead th {\n        text-align: right;\n    }\n</style>\n<table border=\"1\" class=\"dataframe\">\n  <thead>\n    <tr style=\"text-align: right;\">\n      <th></th>\n      <th>contractSymbol</th>\n      <th>price</th>\n      <th>ask</th>\n    </tr>\n  </thead>\n  <tbody>\n    <tr>\n      <th>37</th>\n      <td>AAPL220819C00155000</td>\n      <td>17.488901</td>\n      <td>17.25</td>\n    </tr>\n    <tr>\n      <th>38</th>\n      <td>AAPL220819C00157500</td>\n      <td>15.778084</td>\n      <td>14.75</td>\n    </tr>\n    <tr>\n      <th>39</th>\n      <td>AAPL220819C00160000</td>\n      <td>14.170606</td>\n      <td>12.25</td>\n    </tr>\n    <tr>\n      <th>40</th>\n      <td>AAPL220819C00162500</td>\n      <td>12.669188</td>\n      <td>9.90</td>\n    </tr>\n    <tr>\n      <th>41</th>\n      <td>AAPL220819C00165000</td>\n      <td>11.275236</td>\n      <td>7.45</td>\n    </tr>\n    <tr>\n      <th>42</th>\n      <td>AAPL220819C00167500</td>\n      <td>9.988849</td>\n      <td>5.25</td>\n    </tr>\n    <tr>\n      <th>43</th>\n      <td>AAPL220819C00170000</td>\n      <td>8.808873</td>\n      <td>3.30</td>\n    </tr>\n    <tr>\n      <th>44</th>\n      <td>AAPL220819C00172500</td>\n      <td>7.732998</td>\n      <td>1.74</td>\n    </tr>\n    <tr>\n      <th>45</th>\n      <td>AAPL220819C00175000</td>\n      <td>6.757877</td>\n      <td>0.74</td>\n    </tr>\n    <tr>\n      <th>46</th>\n      <td>AAPL220819C00177500</td>\n      <td>5.879280</td>\n      <td>0.24</td>\n    </tr>\n    <tr>\n      <th>47</th>\n      <td>AAPL220819C00180000</td>\n      <td>5.092253</td>\n      <td>0.08</td>\n    </tr>\n    <tr>\n      <th>48</th>\n      <td>AAPL220819C00182500</td>\n      <td>4.391287</td>\n      <td>0.03</td>\n    </tr>\n    <tr>\n      <th>49</th>\n      <td>AAPL220819C00185000</td>\n      <td>3.770479</td>\n      <td>0.02</td>\n    </tr>\n    <tr>\n      <th>50</th>\n      <td>AAPL220819C00187500</td>\n      <td>3.223693</td>\n      <td>0.02</td>\n    </tr>\n    <tr>\n      <th>51</th>\n      <td>AAPL220819C00190000</td>\n      <td>2.744700</td>\n      <td>0.02</td>\n    </tr>\n    <tr>\n      <th>52</th>\n      <td>AAPL220819C00192500</td>\n      <td>2.327309</td>\n      <td>0.01</td>\n    </tr>\n    <tr>\n      <th>53</th>\n      <td>AAPL220819C00195000</td>\n      <td>1.965468</td>\n      <td>0.01</td>\n    </tr>\n    <tr>\n      <th>54</th>\n      <td>AAPL220819C00197500</td>\n      <td>1.653360</td>\n      <td>0.01</td>\n    </tr>\n    <tr>\n      <th>55</th>\n      <td>AAPL220819C00200000</td>\n      <td>1.385465</td>\n      <td>0.01</td>\n    </tr>\n    <tr>\n      <th>56</th>\n      <td>AAPL220819C00205000</td>\n      <td>0.962022</td>\n      <td>0.01</td>\n    </tr>\n    <tr>\n      <th>57</th>\n      <td>AAPL220819C00210000</td>\n      <td>0.658483</td>\n      <td>0.01</td>\n    </tr>\n    <tr>\n      <th>58</th>\n      <td>AAPL220819C00215000</td>\n      <td>0.444618</td>\n      <td>0.01</td>\n    </tr>\n    <tr>\n      <th>59</th>\n      <td>AAPL220819C00220000</td>\n      <td>0.296362</td>\n      <td>0.01</td>\n    </tr>\n    <tr>\n      <th>60</th>\n      <td>AAPL220819C00225000</td>\n      <td>0.195146</td>\n      <td>0.01</td>\n    </tr>\n    <tr>\n      <th>61</th>\n      <td>AAPL220819C00230000</td>\n      <td>0.127026</td>\n      <td>0.01</td>\n    </tr>\n    <tr>\n      <th>62</th>\n      <td>AAPL220819C00235000</td>\n      <td>0.081793</td>\n      <td>0.01</td>\n    </tr>\n    <tr>\n      <th>63</th>\n      <td>AAPL220819C00240000</td>\n      <td>0.052132</td>\n      <td>0.01</td>\n    </tr>\n    <tr>\n      <th>64</th>\n      <td>AAPL220819C00245000</td>\n      <td>0.032910</td>\n      <td>0.03</td>\n    </tr>\n    <tr>\n      <th>65</th>\n      <td>AAPL220819C00250000</td>\n      <td>0.020589</td>\n      <td>0.01</td>\n    </tr>\n    <tr>\n      <th>66</th>\n      <td>AAPL220819C00255000</td>\n      <td>0.012772</td>\n      <td>0.01</td>\n    </tr>\n  </tbody>\n</table>\n</div>"
     },
     "execution_count": 20,
     "metadata": {},
     "output_type": "execute_result"
    }
   ],
   "source": [
    "priced_options"
   ],
   "metadata": {
    "collapsed": false,
    "pycharm": {
     "name": "#%%\n"
    }
   }
  },
  {
   "cell_type": "code",
   "execution_count": null,
   "outputs": [],
   "source": [],
   "metadata": {
    "collapsed": false,
    "pycharm": {
     "name": "#%%\n"
    }
   }
  }
 ],
 "metadata": {
  "kernelspec": {
   "display_name": "Python 3",
   "language": "python",
   "name": "python3"
  },
  "language_info": {
   "codemirror_mode": {
    "name": "ipython",
    "version": 2
   },
   "file_extension": ".py",
   "mimetype": "text/x-python",
   "name": "python",
   "nbconvert_exporter": "python",
   "pygments_lexer": "ipython2",
   "version": "2.7.6"
  }
 },
 "nbformat": 4,
 "nbformat_minor": 0
}