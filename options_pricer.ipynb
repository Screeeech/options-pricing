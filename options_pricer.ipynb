{
 "cells": [
  {
   "cell_type": "code",
   "execution_count": 1,
   "id": "8553d847-8754-414c-9c99-4846a906d2ec",
   "metadata": {
    "pycharm": {
     "name": "#%%\n"
    }
   },
   "outputs": [],
   "source": [
    "import yfinance as yf\n",
    "import pandas as pd\n",
    "import numpy as np\n",
    "import matplotlib.pyplot as plt\n",
    "from scipy.stats import norm\n",
    "from datetime import date\n",
    "import re\n",
    "from dateutil.relativedelta import relativedelta"
   ]
  },
  {
   "cell_type": "code",
   "execution_count": 2,
   "outputs": [
    {
     "data": {
      "text/plain": "         contractSymbol             lastTradeDate  strike  lastPrice     bid  \\\n0   AAPL220826C00070000 2022-08-19 19:03:41+00:00    70.0     101.80  101.55   \n1   AAPL220826C00075000 2022-08-19 19:50:36+00:00    75.0      96.75   94.60   \n2   AAPL220826C00080000 2022-08-17 18:16:34+00:00    80.0      95.55   91.55   \n3   AAPL220826C00085000 2022-08-19 17:13:26+00:00    85.0      87.60   86.55   \n4   AAPL220826C00090000 2022-08-19 17:13:26+00:00    90.0      82.60   81.55   \n..                  ...                       ...     ...        ...     ...   \n58  AAPL220826C00220000 2022-08-10 13:40:55+00:00   220.0       0.01    0.00   \n59  AAPL220826C00225000 2022-08-02 13:31:59+00:00   225.0       0.01    0.00   \n60  AAPL220826C00235000 2022-08-11 15:37:19+00:00   235.0       0.01    0.00   \n61  AAPL220826C00245000 2022-07-29 17:38:58+00:00   245.0       0.01    0.00   \n62  AAPL220826C00250000 2022-08-19 14:23:27+00:00   250.0       0.01    0.00   \n\n       ask    change  percentChange  volume  openInterest  impliedVolatility  \\\n0   101.70 -2.299995      -2.209410       8            85           2.898440   \n1    98.55 -2.949997      -2.958874      65           128           2.492191   \n2    91.70  0.000000       0.000000      26            62           2.492191   \n3    86.70 -0.650002      -0.736546       8            42           2.308598   \n4    81.70  0.349998       0.425530       5            20           2.132817   \n..     ...       ...            ...     ...           ...                ...   \n58    0.01  0.000000       0.000000       2            80           0.625004   \n59    0.01  0.000000       0.000000       1            21           0.687503   \n60    0.01  0.000000       0.000000       1           165           0.781252   \n61    0.01  0.000000       0.000000       1             1           0.875001   \n62    0.01 -0.190000     -95.000000       1             2           0.937501   \n\n    inTheMoney contractSize currency  \n0         True      REGULAR      USD  \n1         True      REGULAR      USD  \n2         True      REGULAR      USD  \n3         True      REGULAR      USD  \n4         True      REGULAR      USD  \n..         ...          ...      ...  \n58       False      REGULAR      USD  \n59       False      REGULAR      USD  \n60       False      REGULAR      USD  \n61       False      REGULAR      USD  \n62       False      REGULAR      USD  \n\n[63 rows x 14 columns]",
      "text/html": "<div>\n<style scoped>\n    .dataframe tbody tr th:only-of-type {\n        vertical-align: middle;\n    }\n\n    .dataframe tbody tr th {\n        vertical-align: top;\n    }\n\n    .dataframe thead th {\n        text-align: right;\n    }\n</style>\n<table border=\"1\" class=\"dataframe\">\n  <thead>\n    <tr style=\"text-align: right;\">\n      <th></th>\n      <th>contractSymbol</th>\n      <th>lastTradeDate</th>\n      <th>strike</th>\n      <th>lastPrice</th>\n      <th>bid</th>\n      <th>ask</th>\n      <th>change</th>\n      <th>percentChange</th>\n      <th>volume</th>\n      <th>openInterest</th>\n      <th>impliedVolatility</th>\n      <th>inTheMoney</th>\n      <th>contractSize</th>\n      <th>currency</th>\n    </tr>\n  </thead>\n  <tbody>\n    <tr>\n      <th>0</th>\n      <td>AAPL220826C00070000</td>\n      <td>2022-08-19 19:03:41+00:00</td>\n      <td>70.0</td>\n      <td>101.80</td>\n      <td>101.55</td>\n      <td>101.70</td>\n      <td>-2.299995</td>\n      <td>-2.209410</td>\n      <td>8</td>\n      <td>85</td>\n      <td>2.898440</td>\n      <td>True</td>\n      <td>REGULAR</td>\n      <td>USD</td>\n    </tr>\n    <tr>\n      <th>1</th>\n      <td>AAPL220826C00075000</td>\n      <td>2022-08-19 19:50:36+00:00</td>\n      <td>75.0</td>\n      <td>96.75</td>\n      <td>94.60</td>\n      <td>98.55</td>\n      <td>-2.949997</td>\n      <td>-2.958874</td>\n      <td>65</td>\n      <td>128</td>\n      <td>2.492191</td>\n      <td>True</td>\n      <td>REGULAR</td>\n      <td>USD</td>\n    </tr>\n    <tr>\n      <th>2</th>\n      <td>AAPL220826C00080000</td>\n      <td>2022-08-17 18:16:34+00:00</td>\n      <td>80.0</td>\n      <td>95.55</td>\n      <td>91.55</td>\n      <td>91.70</td>\n      <td>0.000000</td>\n      <td>0.000000</td>\n      <td>26</td>\n      <td>62</td>\n      <td>2.492191</td>\n      <td>True</td>\n      <td>REGULAR</td>\n      <td>USD</td>\n    </tr>\n    <tr>\n      <th>3</th>\n      <td>AAPL220826C00085000</td>\n      <td>2022-08-19 17:13:26+00:00</td>\n      <td>85.0</td>\n      <td>87.60</td>\n      <td>86.55</td>\n      <td>86.70</td>\n      <td>-0.650002</td>\n      <td>-0.736546</td>\n      <td>8</td>\n      <td>42</td>\n      <td>2.308598</td>\n      <td>True</td>\n      <td>REGULAR</td>\n      <td>USD</td>\n    </tr>\n    <tr>\n      <th>4</th>\n      <td>AAPL220826C00090000</td>\n      <td>2022-08-19 17:13:26+00:00</td>\n      <td>90.0</td>\n      <td>82.60</td>\n      <td>81.55</td>\n      <td>81.70</td>\n      <td>0.349998</td>\n      <td>0.425530</td>\n      <td>5</td>\n      <td>20</td>\n      <td>2.132817</td>\n      <td>True</td>\n      <td>REGULAR</td>\n      <td>USD</td>\n    </tr>\n    <tr>\n      <th>...</th>\n      <td>...</td>\n      <td>...</td>\n      <td>...</td>\n      <td>...</td>\n      <td>...</td>\n      <td>...</td>\n      <td>...</td>\n      <td>...</td>\n      <td>...</td>\n      <td>...</td>\n      <td>...</td>\n      <td>...</td>\n      <td>...</td>\n      <td>...</td>\n    </tr>\n    <tr>\n      <th>58</th>\n      <td>AAPL220826C00220000</td>\n      <td>2022-08-10 13:40:55+00:00</td>\n      <td>220.0</td>\n      <td>0.01</td>\n      <td>0.00</td>\n      <td>0.01</td>\n      <td>0.000000</td>\n      <td>0.000000</td>\n      <td>2</td>\n      <td>80</td>\n      <td>0.625004</td>\n      <td>False</td>\n      <td>REGULAR</td>\n      <td>USD</td>\n    </tr>\n    <tr>\n      <th>59</th>\n      <td>AAPL220826C00225000</td>\n      <td>2022-08-02 13:31:59+00:00</td>\n      <td>225.0</td>\n      <td>0.01</td>\n      <td>0.00</td>\n      <td>0.01</td>\n      <td>0.000000</td>\n      <td>0.000000</td>\n      <td>1</td>\n      <td>21</td>\n      <td>0.687503</td>\n      <td>False</td>\n      <td>REGULAR</td>\n      <td>USD</td>\n    </tr>\n    <tr>\n      <th>60</th>\n      <td>AAPL220826C00235000</td>\n      <td>2022-08-11 15:37:19+00:00</td>\n      <td>235.0</td>\n      <td>0.01</td>\n      <td>0.00</td>\n      <td>0.01</td>\n      <td>0.000000</td>\n      <td>0.000000</td>\n      <td>1</td>\n      <td>165</td>\n      <td>0.781252</td>\n      <td>False</td>\n      <td>REGULAR</td>\n      <td>USD</td>\n    </tr>\n    <tr>\n      <th>61</th>\n      <td>AAPL220826C00245000</td>\n      <td>2022-07-29 17:38:58+00:00</td>\n      <td>245.0</td>\n      <td>0.01</td>\n      <td>0.00</td>\n      <td>0.01</td>\n      <td>0.000000</td>\n      <td>0.000000</td>\n      <td>1</td>\n      <td>1</td>\n      <td>0.875001</td>\n      <td>False</td>\n      <td>REGULAR</td>\n      <td>USD</td>\n    </tr>\n    <tr>\n      <th>62</th>\n      <td>AAPL220826C00250000</td>\n      <td>2022-08-19 14:23:27+00:00</td>\n      <td>250.0</td>\n      <td>0.01</td>\n      <td>0.00</td>\n      <td>0.01</td>\n      <td>-0.190000</td>\n      <td>-95.000000</td>\n      <td>1</td>\n      <td>2</td>\n      <td>0.937501</td>\n      <td>False</td>\n      <td>REGULAR</td>\n      <td>USD</td>\n    </tr>\n  </tbody>\n</table>\n<p>63 rows × 14 columns</p>\n</div>"
     },
     "execution_count": 2,
     "metadata": {},
     "output_type": "execute_result"
    }
   ],
   "source": [
    "aapl = yf.Ticker(\"aapl\")\n",
    "aapl.option_chain(date=\"2022-08-26\").calls"
   ],
   "metadata": {
    "collapsed": false,
    "pycharm": {
     "name": "#%%\n"
    }
   }
  },
  {
   "cell_type": "code",
   "execution_count": 9,
   "outputs": [
    {
     "name": "stdout",
     "output_type": "stream",
     "text": [
      "[*********************100%***********************]  1 of 1 completed\n"
     ]
    }
   ],
   "source": [
    "stock_data = yf.download(\"aapl\", (date.today() - relativedelta(days=30)).strftime(\"%Y-%m-%d\"), date.today().strftime(\"%Y-%m-%d\"), adjusted=True)\n",
    "stock_returns = stock_data['Adj Close'].pct_change().dropna()\n",
    "# stock_returns"
   ],
   "metadata": {
    "collapsed": false,
    "pycharm": {
     "name": "#%%\n"
    }
   }
  },
  {
   "cell_type": "code",
   "execution_count": 16,
   "outputs": [],
   "source": [
    "def symbol_parts(symbol):\n",
    "    r = re.search(\"^[A-Z]*\", symbol)\n",
    "    index = r.span()[1]\n",
    "    ticker = symbol[0:index]\n",
    "    year = 2000+ int(symbol[index:index + 2])\n",
    "    month = int(symbol[index+2: index+4])\n",
    "    day = int(symbol[index+4: index+6])\n",
    "    opt_type = symbol[index+6: index+7]\n",
    "    strike_price = int(symbol[index+7:]) / 1000\n",
    "    return ticker, date(year, month, day), opt_type, strike_price\n"
   ],
   "metadata": {
    "collapsed": false,
    "pycharm": {
     "name": "#%%\n"
    }
   }
  },
  {
   "cell_type": "code",
   "execution_count": 17,
   "outputs": [],
   "source": [
    "def get_sigma(stock_data):\n",
    "    log_returns = np.array([stock_data[i+1]/stock_data[i] for i in range(len(stock_data)-1)])\n",
    "    return np.sqrt(np.mean(log_returns**2))\n",
    "\n",
    "def get_d1(sigma, t, s, x, r):\n",
    "    return 1/(sigma * np.sqrt(t)) * (np.log(s/x) + (r + sigma**2/2)*t)"
   ],
   "metadata": {
    "collapsed": false,
    "pycharm": {
     "name": "#%%\n"
    }
   }
  },
  {
   "cell_type": "code",
   "execution_count": 41,
   "outputs": [
    {
     "name": "stdout",
     "output_type": "stream",
     "text": [
      "[*********************100%***********************]  1 of 1 completed\n"
     ]
    },
    {
     "data": {
      "text/plain": "138.54231599798078"
     },
     "execution_count": 41,
     "metadata": {},
     "output_type": "execute_result"
    }
   ],
   "source": [
    "def option_price(symbol, r):\n",
    "    ticker,t,option_type, x = symbol_parts(symbol)\n",
    "    t = (t-date.today()).days/365\n",
    "    stock_data = yf.download(ticker, (date.today() - relativedelta(days=30)).strftime(\"%Y-%m-%d\"), date.today().strftime(\"%Y-%m-%d\"), adjusted=True)['Adj Close']\n",
    "    s = stock_data[-1]\n",
    "    sigma = get_sigma(stock_data)\n",
    "    d1 = get_d1(sigma, t, s,x,r)\n",
    "    d2 = d1 - sigma * np.sqrt(t)\n",
    "    return norm.cdf(d1)*s - norm.cdf(d2)*x*np.exp(-1*r*t)\n",
    "\n",
    "option_price(\"AAPL220819C00030000\", .091)"
   ],
   "metadata": {
    "collapsed": false,
    "pycharm": {
     "name": "#%%\n"
    }
   }
  },
  {
   "cell_type": "code",
   "execution_count": 44,
   "outputs": [
    {
     "name": "stdout",
     "output_type": "stream",
     "text": [
      "[*********************100%***********************]  1 of 1 completed\n",
      "[*********************100%***********************]  1 of 1 completed\n",
      "[*********************100%***********************]  1 of 1 completed\n",
      "[*********************100%***********************]  1 of 1 completed\n",
      "[*********************100%***********************]  1 of 1 completed\n",
      "[*********************100%***********************]  1 of 1 completed\n",
      "[*********************100%***********************]  1 of 1 completed\n",
      "[*********************100%***********************]  1 of 1 completed\n",
      "[*********************100%***********************]  1 of 1 completed\n",
      "[*********************100%***********************]  1 of 1 completed\n",
      "[*********************100%***********************]  1 of 1 completed\n",
      "[*********************100%***********************]  1 of 1 completed\n",
      "[*********************100%***********************]  1 of 1 completed\n",
      "[*********************100%***********************]  1 of 1 completed\n",
      "[*********************100%***********************]  1 of 1 completed\n",
      "[*********************100%***********************]  1 of 1 completed\n",
      "[*********************100%***********************]  1 of 1 completed\n",
      "[*********************100%***********************]  1 of 1 completed\n",
      "[*********************100%***********************]  1 of 1 completed\n",
      "[*********************100%***********************]  1 of 1 completed\n",
      "[*********************100%***********************]  1 of 1 completed\n",
      "[*********************100%***********************]  1 of 1 completed\n",
      "[*********************100%***********************]  1 of 1 completed\n",
      "[*********************100%***********************]  1 of 1 completed\n",
      "[*********************100%***********************]  1 of 1 completed\n",
      "[*********************100%***********************]  1 of 1 completed\n",
      "[*********************100%***********************]  1 of 1 completed\n",
      "[*********************100%***********************]  1 of 1 completed\n",
      "[*********************100%***********************]  1 of 1 completed\n",
      "[*********************100%***********************]  1 of 1 completed\n",
      "[*********************100%***********************]  1 of 1 completed\n",
      "[*********************100%***********************]  1 of 1 completed\n",
      "[*********************100%***********************]  1 of 1 completed\n",
      "[*********************100%***********************]  1 of 1 completed\n",
      "[*********************100%***********************]  1 of 1 completed\n",
      "[*********************100%***********************]  1 of 1 completed\n",
      "[*********************100%***********************]  1 of 1 completed\n",
      "[*********************100%***********************]  1 of 1 completed\n",
      "[*********************100%***********************]  1 of 1 completed\n",
      "[*********************100%***********************]  1 of 1 completed\n",
      "[*********************100%***********************]  1 of 1 completed\n",
      "[*********************100%***********************]  1 of 1 completed\n",
      "[*********************100%***********************]  1 of 1 completed\n",
      "[*********************100%***********************]  1 of 1 completed\n",
      "[*********************100%***********************]  1 of 1 completed\n",
      "[*********************100%***********************]  1 of 1 completed\n",
      "[*********************100%***********************]  1 of 1 completed\n",
      "[*********************100%***********************]  1 of 1 completed\n",
      "[*********************100%***********************]  1 of 1 completed\n",
      "[*********************100%***********************]  1 of 1 completed\n",
      "[*********************100%***********************]  1 of 1 completed\n",
      "[*********************100%***********************]  1 of 1 completed\n",
      "[*********************100%***********************]  1 of 1 completed\n",
      "[*********************100%***********************]  1 of 1 completed\n",
      "[*********************100%***********************]  1 of 1 completed\n",
      "[*********************100%***********************]  1 of 1 completed\n",
      "[*********************100%***********************]  1 of 1 completed\n",
      "[*********************100%***********************]  1 of 1 completed\n",
      "[*********************100%***********************]  1 of 1 completed\n",
      "[*********************100%***********************]  1 of 1 completed\n",
      "[*********************100%***********************]  1 of 1 completed\n",
      "[*********************100%***********************]  1 of 1 completed\n",
      "[*********************100%***********************]  1 of 1 completed\n",
      "[*********************100%***********************]  1 of 1 completed\n",
      "[*********************100%***********************]  1 of 1 completed\n",
      "[*********************100%***********************]  1 of 1 completed\n",
      "[*********************100%***********************]  1 of 1 completed\n",
      "[*********************100%***********************]  1 of 1 completed\n"
     ]
    }
   ],
   "source": [
    "aapl = yf.Ticker(\"aapl\")\n",
    "calls = aapl.option_chain(date=\"2022-08-19\").calls\n",
    "\n",
    "priced_options = pd.DataFrame(columns=[\"contractSymbol\", \"price\", \"ask\"])\n",
    "for i in range(calls.shape[0]):\n",
    "    price = option_price(calls.iloc[i].contractSymbol, .091)\n",
    "    if price > calls.iloc[i].ask:\n",
    "        priced_options.loc[i] = [calls.iloc[i].contractSymbol, price, calls.iloc[i].ask]"
   ],
   "metadata": {
    "collapsed": false,
    "pycharm": {
     "name": "#%%\n"
    }
   }
  },
  {
   "cell_type": "code",
   "execution_count": 54,
   "outputs": [],
   "source": [
    "pd.to_pickle(priced_options, \"priced_options.pickle\")"
   ],
   "metadata": {
    "collapsed": false,
    "pycharm": {
     "name": "#%%\n"
    }
   }
  },
  {
   "cell_type": "code",
   "execution_count": null,
   "outputs": [],
   "source": [],
   "metadata": {
    "collapsed": false,
    "pycharm": {
     "name": "#%%\n"
    }
   }
  }
 ],
 "metadata": {
  "kernelspec": {
   "display_name": "Python 3 (ipykernel)",
   "language": "python",
   "name": "python3"
  },
  "language_info": {
   "codemirror_mode": {
    "name": "ipython",
    "version": 3
   },
   "file_extension": ".py",
   "mimetype": "text/x-python",
   "name": "python",
   "nbconvert_exporter": "python",
   "pygments_lexer": "ipython3",
   "version": "3.10.4"
  }
 },
 "nbformat": 4,
 "nbformat_minor": 5
}