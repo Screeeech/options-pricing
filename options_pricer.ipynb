{
 "cells": [
  {
   "cell_type": "code",
   "execution_count": 1,
   "id": "8553d847-8754-414c-9c99-4846a906d2ec",
   "metadata": {
    "pycharm": {
     "name": "#%%\n"
    }
   },
   "outputs": [],
   "source": [
    "import yfinance as yf\n",
    "import pandas as pd\n",
    "import numpy as np\n",
    "import matplotlib.pyplot as plt\n",
    "from scipy.stats import norm\n",
    "from datetime import date\n",
    "import re\n",
    "from dateutil.relativedelta import relativedelta"
   ]
  },
  {
   "cell_type": "code",
   "execution_count": 27,
   "outputs": [
    {
     "data": {
      "text/plain": "         contractSymbol             lastTradeDate  strike  lastPrice     bid  \\\n0   AAPL220819C00030000 2022-08-11 19:14:15+00:00    30.0     138.50  141.60   \n1   AAPL220819C00035000 2022-08-11 16:45:53+00:00    35.0     134.40  136.65   \n2   AAPL220819C00040000 2022-08-10 13:43:46+00:00    40.0     127.75  131.65   \n3   AAPL220819C00045000 2022-08-04 19:58:31+00:00    45.0     120.70  126.65   \n4   AAPL220819C00050000 2022-08-11 17:20:45+00:00    50.0     119.55  121.75   \n..                  ...                       ...     ...        ...     ...   \n63  AAPL220819C00240000 2022-08-09 16:28:09+00:00   240.0       0.01    0.00   \n64  AAPL220819C00245000 2022-06-10 17:36:21+00:00   245.0       0.02    0.00   \n65  AAPL220819C00250000 2022-08-03 17:05:38+00:00   250.0       0.01    0.00   \n66  AAPL220819C00255000 2022-06-22 14:11:39+00:00   255.0       0.03    0.00   \n67  AAPL220819C00260000 2022-08-10 16:02:35+00:00   260.0       0.01    0.00   \n\n       ask  change  percentChange  volume  openInterest  impliedVolatility  \\\n0   141.85     0.0            0.0      47           186           0.000010   \n1   136.85     0.0            0.0       4            58           0.000010   \n2   131.95     0.0            0.0       1             1           0.000010   \n3   127.00     0.0            0.0     105             0           0.000010   \n4   122.05     0.0            0.0       6            53           0.000010   \n..     ...     ...            ...     ...           ...                ...   \n63    0.01     0.0            0.0      89          1706           0.718753   \n64    0.03     0.0            0.0     373          1369           0.828127   \n65    0.01     0.0            0.0      10           893           0.796877   \n66    0.01     0.0            0.0       1           860           0.843752   \n67    0.01     0.0            0.0     102          3062           0.875001   \n\n    inTheMoney contractSize currency  \n0         True      REGULAR      USD  \n1         True      REGULAR      USD  \n2         True      REGULAR      USD  \n3         True      REGULAR      USD  \n4         True      REGULAR      USD  \n..         ...          ...      ...  \n63       False      REGULAR      USD  \n64       False      REGULAR      USD  \n65       False      REGULAR      USD  \n66       False      REGULAR      USD  \n67       False      REGULAR      USD  \n\n[68 rows x 14 columns]",
      "text/html": "<div>\n<style scoped>\n    .dataframe tbody tr th:only-of-type {\n        vertical-align: middle;\n    }\n\n    .dataframe tbody tr th {\n        vertical-align: top;\n    }\n\n    .dataframe thead th {\n        text-align: right;\n    }\n</style>\n<table border=\"1\" class=\"dataframe\">\n  <thead>\n    <tr style=\"text-align: right;\">\n      <th></th>\n      <th>contractSymbol</th>\n      <th>lastTradeDate</th>\n      <th>strike</th>\n      <th>lastPrice</th>\n      <th>bid</th>\n      <th>ask</th>\n      <th>change</th>\n      <th>percentChange</th>\n      <th>volume</th>\n      <th>openInterest</th>\n      <th>impliedVolatility</th>\n      <th>inTheMoney</th>\n      <th>contractSize</th>\n      <th>currency</th>\n    </tr>\n  </thead>\n  <tbody>\n    <tr>\n      <th>0</th>\n      <td>AAPL220819C00030000</td>\n      <td>2022-08-11 19:14:15+00:00</td>\n      <td>30.0</td>\n      <td>138.50</td>\n      <td>141.60</td>\n      <td>141.85</td>\n      <td>0.0</td>\n      <td>0.0</td>\n      <td>47</td>\n      <td>186</td>\n      <td>0.000010</td>\n      <td>True</td>\n      <td>REGULAR</td>\n      <td>USD</td>\n    </tr>\n    <tr>\n      <th>1</th>\n      <td>AAPL220819C00035000</td>\n      <td>2022-08-11 16:45:53+00:00</td>\n      <td>35.0</td>\n      <td>134.40</td>\n      <td>136.65</td>\n      <td>136.85</td>\n      <td>0.0</td>\n      <td>0.0</td>\n      <td>4</td>\n      <td>58</td>\n      <td>0.000010</td>\n      <td>True</td>\n      <td>REGULAR</td>\n      <td>USD</td>\n    </tr>\n    <tr>\n      <th>2</th>\n      <td>AAPL220819C00040000</td>\n      <td>2022-08-10 13:43:46+00:00</td>\n      <td>40.0</td>\n      <td>127.75</td>\n      <td>131.65</td>\n      <td>131.95</td>\n      <td>0.0</td>\n      <td>0.0</td>\n      <td>1</td>\n      <td>1</td>\n      <td>0.000010</td>\n      <td>True</td>\n      <td>REGULAR</td>\n      <td>USD</td>\n    </tr>\n    <tr>\n      <th>3</th>\n      <td>AAPL220819C00045000</td>\n      <td>2022-08-04 19:58:31+00:00</td>\n      <td>45.0</td>\n      <td>120.70</td>\n      <td>126.65</td>\n      <td>127.00</td>\n      <td>0.0</td>\n      <td>0.0</td>\n      <td>105</td>\n      <td>0</td>\n      <td>0.000010</td>\n      <td>True</td>\n      <td>REGULAR</td>\n      <td>USD</td>\n    </tr>\n    <tr>\n      <th>4</th>\n      <td>AAPL220819C00050000</td>\n      <td>2022-08-11 17:20:45+00:00</td>\n      <td>50.0</td>\n      <td>119.55</td>\n      <td>121.75</td>\n      <td>122.05</td>\n      <td>0.0</td>\n      <td>0.0</td>\n      <td>6</td>\n      <td>53</td>\n      <td>0.000010</td>\n      <td>True</td>\n      <td>REGULAR</td>\n      <td>USD</td>\n    </tr>\n    <tr>\n      <th>...</th>\n      <td>...</td>\n      <td>...</td>\n      <td>...</td>\n      <td>...</td>\n      <td>...</td>\n      <td>...</td>\n      <td>...</td>\n      <td>...</td>\n      <td>...</td>\n      <td>...</td>\n      <td>...</td>\n      <td>...</td>\n      <td>...</td>\n      <td>...</td>\n    </tr>\n    <tr>\n      <th>63</th>\n      <td>AAPL220819C00240000</td>\n      <td>2022-08-09 16:28:09+00:00</td>\n      <td>240.0</td>\n      <td>0.01</td>\n      <td>0.00</td>\n      <td>0.01</td>\n      <td>0.0</td>\n      <td>0.0</td>\n      <td>89</td>\n      <td>1706</td>\n      <td>0.718753</td>\n      <td>False</td>\n      <td>REGULAR</td>\n      <td>USD</td>\n    </tr>\n    <tr>\n      <th>64</th>\n      <td>AAPL220819C00245000</td>\n      <td>2022-06-10 17:36:21+00:00</td>\n      <td>245.0</td>\n      <td>0.02</td>\n      <td>0.00</td>\n      <td>0.03</td>\n      <td>0.0</td>\n      <td>0.0</td>\n      <td>373</td>\n      <td>1369</td>\n      <td>0.828127</td>\n      <td>False</td>\n      <td>REGULAR</td>\n      <td>USD</td>\n    </tr>\n    <tr>\n      <th>65</th>\n      <td>AAPL220819C00250000</td>\n      <td>2022-08-03 17:05:38+00:00</td>\n      <td>250.0</td>\n      <td>0.01</td>\n      <td>0.00</td>\n      <td>0.01</td>\n      <td>0.0</td>\n      <td>0.0</td>\n      <td>10</td>\n      <td>893</td>\n      <td>0.796877</td>\n      <td>False</td>\n      <td>REGULAR</td>\n      <td>USD</td>\n    </tr>\n    <tr>\n      <th>66</th>\n      <td>AAPL220819C00255000</td>\n      <td>2022-06-22 14:11:39+00:00</td>\n      <td>255.0</td>\n      <td>0.03</td>\n      <td>0.00</td>\n      <td>0.01</td>\n      <td>0.0</td>\n      <td>0.0</td>\n      <td>1</td>\n      <td>860</td>\n      <td>0.843752</td>\n      <td>False</td>\n      <td>REGULAR</td>\n      <td>USD</td>\n    </tr>\n    <tr>\n      <th>67</th>\n      <td>AAPL220819C00260000</td>\n      <td>2022-08-10 16:02:35+00:00</td>\n      <td>260.0</td>\n      <td>0.01</td>\n      <td>0.00</td>\n      <td>0.01</td>\n      <td>0.0</td>\n      <td>0.0</td>\n      <td>102</td>\n      <td>3062</td>\n      <td>0.875001</td>\n      <td>False</td>\n      <td>REGULAR</td>\n      <td>USD</td>\n    </tr>\n  </tbody>\n</table>\n<p>68 rows × 14 columns</p>\n</div>"
     },
     "execution_count": 27,
     "metadata": {},
     "output_type": "execute_result"
    }
   ],
   "source": [
    "aapl = yf.Ticker(\"aapl\")\n",
    "aapl.option_chain(date=\"2022-08-19\").calls"
   ],
   "metadata": {
    "collapsed": false,
    "pycharm": {
     "name": "#%%\n"
    }
   }
  },
  {
   "cell_type": "code",
   "execution_count": 9,
   "outputs": [
    {
     "name": "stdout",
     "output_type": "stream",
     "text": [
      "[*********************100%***********************]  1 of 1 completed\n"
     ]
    }
   ],
   "source": [
    "stock_data = yf.download(\"aapl\", (date.today() - relativedelta(days=30)).strftime(\"%Y-%m-%d\"), date.today().strftime(\"%Y-%m-%d\"), adjusted=True)\n",
    "stock_returns = stock_data['Adj Close'].pct_change().dropna()\n",
    "# stock_returns"
   ],
   "metadata": {
    "collapsed": false,
    "pycharm": {
     "name": "#%%\n"
    }
   }
  },
  {
   "cell_type": "code",
   "execution_count": 16,
   "outputs": [],
   "source": [
    "def symbol_parts(symbol):\n",
    "    r = re.search(\"^[A-Z]*\", symbol)\n",
    "    index = r.span()[1]\n",
    "    ticker = symbol[0:index]\n",
    "    year = 2000+ int(symbol[index:index + 2])\n",
    "    month = int(symbol[index+2: index+4])\n",
    "    day = int(symbol[index+4: index+6])\n",
    "    opt_type = symbol[index+6: index+7]\n",
    "    strike_price = int(symbol[index+7:]) / 1000\n",
    "    return (ticker,date(year, month, day),opt_type,strike_price)\n"
   ],
   "metadata": {
    "collapsed": false,
    "pycharm": {
     "name": "#%%\n"
    }
   }
  },
  {
   "cell_type": "code",
   "execution_count": 17,
   "outputs": [],
   "source": [
    "def get_sigma(stock_data):\n",
    "    log_returns = np.array([stock_data[i+1]/stock_data[i] for i in range(len(stock_data)-1)])\n",
    "    return np.sqrt(np.mean(log_returns**2))\n",
    "\n",
    "def get_d1(sigma, t, s, x, r):\n",
    "    return 1/(sigma * np.sqrt(t)) * (np.log(s/x) + (r + sigma**2/2)*t)"
   ],
   "metadata": {
    "collapsed": false,
    "pycharm": {
     "name": "#%%\n"
    }
   }
  },
  {
   "cell_type": "code",
   "execution_count": 41,
   "outputs": [
    {
     "name": "stdout",
     "output_type": "stream",
     "text": [
      "[*********************100%***********************]  1 of 1 completed\n"
     ]
    },
    {
     "data": {
      "text/plain": "138.54231599798078"
     },
     "execution_count": 41,
     "metadata": {},
     "output_type": "execute_result"
    }
   ],
   "source": [
    "def option_price(symbol, r):\n",
    "    ticker,t,option_type, x = symbol_parts(symbol)\n",
    "    t = (t-date.today()).days/365\n",
    "    stock_data = yf.download(ticker, (date.today() - relativedelta(days=30)).strftime(\"%Y-%m-%d\"), date.today().strftime(\"%Y-%m-%d\"), adjusted=True)['Adj Close']\n",
    "    s = stock_data[-1]\n",
    "    sigma = get_sigma(stock_data)\n",
    "    d1 = get_d1(sigma, t, s,x,r)\n",
    "    d2 = d1 - sigma * np.sqrt(t)\n",
    "    return norm.cdf(d1)*s - norm.cdf(d2)*x*np.exp(-1*r*t)\n",
    "\n",
    "option_price(\"AAPL220819C00030000\", .091)"
   ],
   "metadata": {
    "collapsed": false,
    "pycharm": {
     "name": "#%%\n"
    }
   }
  },
  {
   "cell_type": "code",
   "execution_count": 44,
   "outputs": [
    {
     "name": "stdout",
     "output_type": "stream",
     "text": [
      "[*********************100%***********************]  1 of 1 completed\n",
      "[*********************100%***********************]  1 of 1 completed\n",
      "[*********************100%***********************]  1 of 1 completed\n",
      "[*********************100%***********************]  1 of 1 completed\n",
      "[*********************100%***********************]  1 of 1 completed\n",
      "[*********************100%***********************]  1 of 1 completed\n",
      "[*********************100%***********************]  1 of 1 completed\n",
      "[*********************100%***********************]  1 of 1 completed\n",
      "[*********************100%***********************]  1 of 1 completed\n",
      "[*********************100%***********************]  1 of 1 completed\n",
      "[*********************100%***********************]  1 of 1 completed\n",
      "[*********************100%***********************]  1 of 1 completed\n",
      "[*********************100%***********************]  1 of 1 completed\n",
      "[*********************100%***********************]  1 of 1 completed\n",
      "[*********************100%***********************]  1 of 1 completed\n",
      "[*********************100%***********************]  1 of 1 completed\n",
      "[*********************100%***********************]  1 of 1 completed\n",
      "[*********************100%***********************]  1 of 1 completed\n",
      "[*********************100%***********************]  1 of 1 completed\n",
      "[*********************100%***********************]  1 of 1 completed\n",
      "[*********************100%***********************]  1 of 1 completed\n",
      "[*********************100%***********************]  1 of 1 completed\n",
      "[*********************100%***********************]  1 of 1 completed\n",
      "[*********************100%***********************]  1 of 1 completed\n",
      "[*********************100%***********************]  1 of 1 completed\n",
      "[*********************100%***********************]  1 of 1 completed\n",
      "[*********************100%***********************]  1 of 1 completed\n",
      "[*********************100%***********************]  1 of 1 completed\n",
      "[*********************100%***********************]  1 of 1 completed\n",
      "[*********************100%***********************]  1 of 1 completed\n",
      "[*********************100%***********************]  1 of 1 completed\n",
      "[*********************100%***********************]  1 of 1 completed\n",
      "[*********************100%***********************]  1 of 1 completed\n",
      "[*********************100%***********************]  1 of 1 completed\n",
      "[*********************100%***********************]  1 of 1 completed\n",
      "[*********************100%***********************]  1 of 1 completed\n",
      "[*********************100%***********************]  1 of 1 completed\n",
      "[*********************100%***********************]  1 of 1 completed\n",
      "[*********************100%***********************]  1 of 1 completed\n",
      "[*********************100%***********************]  1 of 1 completed\n",
      "[*********************100%***********************]  1 of 1 completed\n",
      "[*********************100%***********************]  1 of 1 completed\n",
      "[*********************100%***********************]  1 of 1 completed\n",
      "[*********************100%***********************]  1 of 1 completed\n",
      "[*********************100%***********************]  1 of 1 completed\n",
      "[*********************100%***********************]  1 of 1 completed\n",
      "[*********************100%***********************]  1 of 1 completed\n",
      "[*********************100%***********************]  1 of 1 completed\n",
      "[*********************100%***********************]  1 of 1 completed\n",
      "[*********************100%***********************]  1 of 1 completed\n",
      "[*********************100%***********************]  1 of 1 completed\n",
      "[*********************100%***********************]  1 of 1 completed\n",
      "[*********************100%***********************]  1 of 1 completed\n",
      "[*********************100%***********************]  1 of 1 completed\n",
      "[*********************100%***********************]  1 of 1 completed\n",
      "[*********************100%***********************]  1 of 1 completed\n",
      "[*********************100%***********************]  1 of 1 completed\n",
      "[*********************100%***********************]  1 of 1 completed\n",
      "[*********************100%***********************]  1 of 1 completed\n",
      "[*********************100%***********************]  1 of 1 completed\n",
      "[*********************100%***********************]  1 of 1 completed\n",
      "[*********************100%***********************]  1 of 1 completed\n",
      "[*********************100%***********************]  1 of 1 completed\n",
      "[*********************100%***********************]  1 of 1 completed\n",
      "[*********************100%***********************]  1 of 1 completed\n",
      "[*********************100%***********************]  1 of 1 completed\n",
      "[*********************100%***********************]  1 of 1 completed\n",
      "[*********************100%***********************]  1 of 1 completed\n"
     ]
    }
   ],
   "source": [
    "aapl = yf.Ticker(\"aapl\")\n",
    "calls = aapl.option_chain(date=\"2022-08-19\").calls\n",
    "\n",
    "priced_options = pd.DataFrame(columns=[\"contractSymbol\", \"price\", \"ask\"])\n",
    "for i in range(calls.shape[0]):\n",
    "    price = option_price(calls.iloc[i].contractSymbol, .091)\n",
    "    if price > calls.iloc[i].ask:\n",
    "        priced_options.loc[i] = [calls.iloc[i].contractSymbol, price, calls.iloc[i].ask]"
   ],
   "metadata": {
    "collapsed": false,
    "pycharm": {
     "name": "#%%\n"
    }
   }
  },
  {
   "cell_type": "code",
   "execution_count": 54,
   "outputs": [],
   "source": [
    "pd.to_pickle(priced_options, \"priced_options.pickle\")"
   ],
   "metadata": {
    "collapsed": false,
    "pycharm": {
     "name": "#%%\n"
    }
   }
  },
  {
   "cell_type": "code",
   "execution_count": null,
   "outputs": [],
   "source": [],
   "metadata": {
    "collapsed": false,
    "pycharm": {
     "name": "#%%\n"
    }
   }
  }
 ],
 "metadata": {
  "kernelspec": {
   "display_name": "Python 3 (ipykernel)",
   "language": "python",
   "name": "python3"
  },
  "language_info": {
   "codemirror_mode": {
    "name": "ipython",
    "version": 3
   },
   "file_extension": ".py",
   "mimetype": "text/x-python",
   "name": "python",
   "nbconvert_exporter": "python",
   "pygments_lexer": "ipython3",
   "version": "3.10.4"
  }
 },
 "nbformat": 4,
 "nbformat_minor": 5
}