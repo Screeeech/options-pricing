{
 "cells": [
  {
   "cell_type": "code",
   "execution_count": 23,
   "id": "8553d847-8754-414c-9c99-4846a906d2ec",
   "metadata": {},
   "outputs": [],
   "source": [
    "import yfinance as yf\n",
    "import pandas as pd\n",
    "import numpy as np\n",
    "import matplotlib.pyplot as plt\n",
    "from scipy.stats import norm\n",
    "from datetime import date\n",
    "import re\n",
    "from dateutil.relativedelta import relativedelta"
   ]
  },
  {
   "cell_type": "code",
   "execution_count": 30,
   "id": "0d133ea7-363b-4447-8848-46d6edd73b07",
   "metadata": {},
   "outputs": [
    {
     "data": {
      "text/html": [
       "<div>\n",
       "<style scoped>\n",
       "    .dataframe tbody tr th:only-of-type {\n",
       "        vertical-align: middle;\n",
       "    }\n",
       "\n",
       "    .dataframe tbody tr th {\n",
       "        vertical-align: top;\n",
       "    }\n",
       "\n",
       "    .dataframe thead th {\n",
       "        text-align: right;\n",
       "    }\n",
       "</style>\n",
       "<table border=\"1\" class=\"dataframe\">\n",
       "  <thead>\n",
       "    <tr style=\"text-align: right;\">\n",
       "      <th></th>\n",
       "      <th>contractSymbol</th>\n",
       "      <th>lastTradeDate</th>\n",
       "      <th>strike</th>\n",
       "      <th>lastPrice</th>\n",
       "      <th>bid</th>\n",
       "      <th>ask</th>\n",
       "      <th>change</th>\n",
       "      <th>percentChange</th>\n",
       "      <th>volume</th>\n",
       "      <th>openInterest</th>\n",
       "      <th>impliedVolatility</th>\n",
       "      <th>inTheMoney</th>\n",
       "      <th>contractSize</th>\n",
       "      <th>currency</th>\n",
       "    </tr>\n",
       "  </thead>\n",
       "  <tbody>\n",
       "    <tr>\n",
       "      <th>0</th>\n",
       "      <td>WRAP220819C00002000</td>\n",
       "      <td>2022-07-25 17:15:31+00:00</td>\n",
       "      <td>2.0</td>\n",
       "      <td>0.20</td>\n",
       "      <td>0.1</td>\n",
       "      <td>0.25</td>\n",
       "      <td>-0.05</td>\n",
       "      <td>-19.999998</td>\n",
       "      <td>5.0</td>\n",
       "      <td>498</td>\n",
       "      <td>1.265629</td>\n",
       "      <td>False</td>\n",
       "      <td>REGULAR</td>\n",
       "      <td>USD</td>\n",
       "    </tr>\n",
       "    <tr>\n",
       "      <th>1</th>\n",
       "      <td>WRAP220819C00003000</td>\n",
       "      <td>2022-07-21 13:30:05+00:00</td>\n",
       "      <td>3.0</td>\n",
       "      <td>0.10</td>\n",
       "      <td>0.0</td>\n",
       "      <td>0.10</td>\n",
       "      <td>0.00</td>\n",
       "      <td>0.000000</td>\n",
       "      <td>1.0</td>\n",
       "      <td>690</td>\n",
       "      <td>1.531252</td>\n",
       "      <td>False</td>\n",
       "      <td>REGULAR</td>\n",
       "      <td>USD</td>\n",
       "    </tr>\n",
       "    <tr>\n",
       "      <th>2</th>\n",
       "      <td>WRAP220819C00004000</td>\n",
       "      <td>2022-07-20 17:32:27+00:00</td>\n",
       "      <td>4.0</td>\n",
       "      <td>0.05</td>\n",
       "      <td>0.0</td>\n",
       "      <td>0.05</td>\n",
       "      <td>0.00</td>\n",
       "      <td>0.000000</td>\n",
       "      <td>1.0</td>\n",
       "      <td>7</td>\n",
       "      <td>1.781251</td>\n",
       "      <td>False</td>\n",
       "      <td>REGULAR</td>\n",
       "      <td>USD</td>\n",
       "    </tr>\n",
       "    <tr>\n",
       "      <th>3</th>\n",
       "      <td>WRAP220819C00005000</td>\n",
       "      <td>2022-06-27 14:39:51+00:00</td>\n",
       "      <td>5.0</td>\n",
       "      <td>0.05</td>\n",
       "      <td>0.0</td>\n",
       "      <td>0.05</td>\n",
       "      <td>0.00</td>\n",
       "      <td>0.000000</td>\n",
       "      <td>NaN</td>\n",
       "      <td>1</td>\n",
       "      <td>2.125005</td>\n",
       "      <td>False</td>\n",
       "      <td>REGULAR</td>\n",
       "      <td>USD</td>\n",
       "    </tr>\n",
       "  </tbody>\n",
       "</table>\n",
       "</div>"
      ],
      "text/plain": [
       "        contractSymbol             lastTradeDate  strike  lastPrice  bid  \\\n",
       "0  WRAP220819C00002000 2022-07-25 17:15:31+00:00     2.0       0.20  0.1   \n",
       "1  WRAP220819C00003000 2022-07-21 13:30:05+00:00     3.0       0.10  0.0   \n",
       "2  WRAP220819C00004000 2022-07-20 17:32:27+00:00     4.0       0.05  0.0   \n",
       "3  WRAP220819C00005000 2022-06-27 14:39:51+00:00     5.0       0.05  0.0   \n",
       "\n",
       "    ask  change  percentChange  volume  openInterest  impliedVolatility  \\\n",
       "0  0.25   -0.05     -19.999998     5.0           498           1.265629   \n",
       "1  0.10    0.00       0.000000     1.0           690           1.531252   \n",
       "2  0.05    0.00       0.000000     1.0             7           1.781251   \n",
       "3  0.05    0.00       0.000000     NaN             1           2.125005   \n",
       "\n",
       "   inTheMoney contractSize currency  \n",
       "0       False      REGULAR      USD  \n",
       "1       False      REGULAR      USD  \n",
       "2       False      REGULAR      USD  \n",
       "3       False      REGULAR      USD  "
      ]
     },
     "execution_count": 30,
     "metadata": {},
     "output_type": "execute_result"
    }
   ],
   "source": [
    "aapl = yf.Ticker(\"wrap\")\n",
    "aapl.option_chain().calls\n"
   ]
  },
  {
   "cell_type": "code",
   "execution_count": 37,
   "id": "26a5c406-4505-463a-9e82-9539c49bdb62",
   "metadata": {},
   "outputs": [
    {
     "name": "stdout",
     "output_type": "stream",
     "text": [
      "[*********************100%***********************]  1 of 1 completed\n"
     ]
    },
    {
     "data": {
      "text/plain": [
       "Date\n",
       "2022-06-24    0.024517\n",
       "2022-06-27    0.000000\n",
       "2022-06-28   -0.029790\n",
       "2022-06-29    0.013024\n",
       "2022-06-30   -0.018028\n",
       "2022-07-01    0.016164\n",
       "2022-07-05    0.018930\n",
       "2022-07-06    0.009607\n",
       "2022-07-07    0.023999\n",
       "2022-07-08    0.004715\n",
       "2022-07-11   -0.014758\n",
       "2022-07-12    0.006834\n",
       "2022-07-13   -0.002537\n",
       "2022-07-14    0.020482\n",
       "2022-07-15    0.011450\n",
       "2022-07-18   -0.020643\n",
       "2022-07-19    0.026722\n",
       "2022-07-20    0.013510\n",
       "2022-07-21    0.015094\n",
       "2022-07-22   -0.008111\n",
       "Name: Adj Close, dtype: float64"
      ]
     },
     "execution_count": 37,
     "metadata": {},
     "output_type": "execute_result"
    }
   ],
   "source": [
    "stock_data = yf.download(\"aapl\", (date.today() - relativedelta(days=30)).strftime(\"%Y-%m-%d\"), date.today().strftime(\"%Y-%m-%d\"), adjusted=True)\n",
    "stock_returns = stock_data['Adj Close'].pct_change().dropna()\n",
    "stock_returns\n"
   ]
  },
  {
   "cell_type": "code",
   "execution_count": 32,
   "id": "9d8c6309-a2d9-41f4-88f4-2180fe9eefba",
   "metadata": {},
   "outputs": [
    {
     "name": "stdout",
     "output_type": "stream",
     "text": [
      "[*********************100%***********************]  1 of 1 completed\n"
     ]
    },
    {
     "data": {
      "text/plain": [
       "1.9323392371645276"
      ]
     },
     "execution_count": 32,
     "metadata": {},
     "output_type": "execute_result"
    }
   ],
   "source": [
    "def option_price(symbol, r):\n",
    "    ticker,t,option_type, x = symbol_parts(symbol)\n",
    "    t = (t-date.today()).days\n",
    "    stock_data = yf.download(ticker, (date.today() - relativedelta(days=30)).strftime(\"%Y-%m-%d\"), date.today().strftime(\"%Y-%m-%d\"), adjusted=True)['Adj Close']\n",
    "    s = stock_data[-1]\n",
    "    sigma = get_sigma(stock_data)\n",
    "    d1 = get_d1(sigma, t, s,x,r)\n",
    "    d2 = d1 - sigma * np.sqrt(t)\n",
    "    return norm.cdf(d1)*s - norm.cdf(d2)*x*np.exp(-1*r*t)\n",
    "option_price(\"WRAP220819C00002000\", .091)\n",
    "\n",
    "    \n",
    "    \n",
    "    "
   ]
  },
  {
   "cell_type": "code",
   "execution_count": 19,
   "id": "ac568a2a-eb2d-4834-9920-f87eb793da71",
   "metadata": {},
   "outputs": [],
   "source": [
    "def get_sigma(stock_data):\n",
    "    log_returns = np.array([stock_data[i+1]/stock_data[i] for i in range(len(stock_data)-1)])\n",
    "    return np.sqrt(np.mean(log_returns**2))\n",
    "\n",
    "def get_d1(sigma, t, s, x, r):\n",
    "    return 1/(sigma * np.sqrt(t)) * (np.log(s/x) + (r + sigma**2/2)*t)\n",
    "\n",
    "    \n",
    "    "
   ]
  },
  {
   "cell_type": "code",
   "execution_count": 17,
   "id": "6f9dc728-0d8f-4854-8452-e6bff8983309",
   "metadata": {},
   "outputs": [
    {
     "data": {
      "text/plain": [
       "-4"
      ]
     },
     "execution_count": 17,
     "metadata": {},
     "output_type": "execute_result"
    }
   ],
   "source": [
    "def symbol_parts(symbol):\n",
    "    r = re.search(\"^[A-Z]*\", symbol)\n",
    "    index = r.span()[1]\n",
    "    ticker = symbol[0:index]\n",
    "    year = 2000+ int(symbol[index:index + 2])\n",
    "    month = int(symbol[index+2: index+4])\n",
    "    day = int(symbol[index+4: index+6])\n",
    "    opt_type = symbol[index+6: index+7]\n",
    "    strike_price = int(symbol[index+7:]) / 1000\n",
    "    return (ticker,date(year, month, day),opt_type,strike_price)\n",
    "\n",
    "(date.today() - symbol_parts(\"GOOGL220729C00060000\")[1]).days\n",
    "\n",
    "    "
   ]
  },
  {
   "cell_type": "code",
   "execution_count": null,
   "id": "be6edaca-b399-42ba-8268-48f10882c3c0",
   "metadata": {},
   "outputs": [],
   "source": []
  }
 ],
 "metadata": {
  "kernelspec": {
   "display_name": "Python 3 (ipykernel)",
   "language": "python",
   "name": "python3"
  },
  "language_info": {
   "codemirror_mode": {
    "name": "ipython",
    "version": 3
   },
   "file_extension": ".py",
   "mimetype": "text/x-python",
   "name": "python",
   "nbconvert_exporter": "python",
   "pygments_lexer": "ipython3",
   "version": "3.10.4"
  }
 },
 "nbformat": 4,
 "nbformat_minor": 5
}
