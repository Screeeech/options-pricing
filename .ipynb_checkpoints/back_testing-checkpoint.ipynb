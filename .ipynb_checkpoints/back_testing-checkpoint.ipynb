{
 "cells": [
  {
   "cell_type": "code",
   "execution_count": 1,
   "metadata": {
    "collapsed": false,
    "jupyter": {
     "outputs_hidden": false
    },
    "pycharm": {
     "name": "#%%\n"
    }
   },
   "outputs": [],
   "source": [
    "import pickle\n",
    "import matplotlib.pyplot as plt\n",
    "import re\n",
    "from datetime import date\n",
    "import numpy as np\n",
    "from scipy import integrate"
   ]
  },
  {
   "cell_type": "code",
   "execution_count": 2,
   "metadata": {
    "collapsed": false,
    "jupyter": {
     "outputs_hidden": false
    },
    "pycharm": {
     "name": "#%%\n"
    }
   },
   "outputs": [],
   "source": [
    "def symbol_parts(symbol):\n",
    "    r = re.search(\"^[A-Z]*\", symbol)\n",
    "    index = r.span()[1]\n",
    "    ticker = symbol[0:index]\n",
    "    year = 2000+ int(symbol[index:index + 2])\n",
    "    month = int(symbol[index+2: index+4])\n",
    "    day = int(symbol[index+4: index+6])\n",
    "    opt_type = symbol[index+6: index+7]\n",
    "    strike_price = int(symbol[index+7:]) / 1000\n",
    "    return ticker, date(year, month, day), opt_type, strike_price"
   ]
  },
  {
   "cell_type": "code",
   "execution_count": 3,
   "metadata": {
    "collapsed": false,
    "jupyter": {
     "outputs_hidden": false
    },
    "pycharm": {
     "name": "#%%\n"
    }
   },
   "outputs": [],
   "source": [
    "with open('priced_options.pickle', 'rb') as f:\n",
    "    priced_options = pickle.load(f)"
   ]
  },
  {
   "cell_type": "code",
   "execution_count": 4,
   "metadata": {
    "collapsed": false,
    "jupyter": {
     "outputs_hidden": false
    },
    "pycharm": {
     "name": "#%%\n"
    }
   },
   "outputs": [
    {
     "data": {
      "text/html": [
       "<div>\n",
       "<style scoped>\n",
       "    .dataframe tbody tr th:only-of-type {\n",
       "        vertical-align: middle;\n",
       "    }\n",
       "\n",
       "    .dataframe tbody tr th {\n",
       "        vertical-align: top;\n",
       "    }\n",
       "\n",
       "    .dataframe thead th {\n",
       "        text-align: right;\n",
       "    }\n",
       "</style>\n",
       "<table border=\"1\" class=\"dataframe\">\n",
       "  <thead>\n",
       "    <tr style=\"text-align: right;\">\n",
       "      <th></th>\n",
       "      <th>contractSymbol</th>\n",
       "      <th>price</th>\n",
       "      <th>ask</th>\n",
       "      <th>risk</th>\n",
       "    </tr>\n",
       "  </thead>\n",
       "  <tbody>\n",
       "    <tr>\n",
       "      <th>37</th>\n",
       "      <td>AAPL220819C00155000</td>\n",
       "      <td>17.488901</td>\n",
       "      <td>17.25</td>\n",
       "      <td>-0.004508</td>\n",
       "    </tr>\n",
       "    <tr>\n",
       "      <th>38</th>\n",
       "      <td>AAPL220819C00157500</td>\n",
       "      <td>15.778084</td>\n",
       "      <td>14.75</td>\n",
       "      <td>-0.004508</td>\n",
       "    </tr>\n",
       "    <tr>\n",
       "      <th>39</th>\n",
       "      <td>AAPL220819C00160000</td>\n",
       "      <td>14.170606</td>\n",
       "      <td>12.25</td>\n",
       "      <td>-0.004508</td>\n",
       "    </tr>\n",
       "    <tr>\n",
       "      <th>40</th>\n",
       "      <td>AAPL220819C00162500</td>\n",
       "      <td>12.669188</td>\n",
       "      <td>9.90</td>\n",
       "      <td>-0.003641</td>\n",
       "    </tr>\n",
       "    <tr>\n",
       "      <th>41</th>\n",
       "      <td>AAPL220819C00165000</td>\n",
       "      <td>11.275236</td>\n",
       "      <td>7.45</td>\n",
       "      <td>-0.003352</td>\n",
       "    </tr>\n",
       "    <tr>\n",
       "      <th>42</th>\n",
       "      <td>AAPL220819C00167500</td>\n",
       "      <td>9.988849</td>\n",
       "      <td>5.25</td>\n",
       "      <td>-0.001618</td>\n",
       "    </tr>\n",
       "    <tr>\n",
       "      <th>43</th>\n",
       "      <td>AAPL220819C00170000</td>\n",
       "      <td>8.808873</td>\n",
       "      <td>3.30</td>\n",
       "      <td>0.001560</td>\n",
       "    </tr>\n",
       "    <tr>\n",
       "      <th>44</th>\n",
       "      <td>AAPL220819C00172500</td>\n",
       "      <td>7.732998</td>\n",
       "      <td>1.74</td>\n",
       "      <td>0.006993</td>\n",
       "    </tr>\n",
       "    <tr>\n",
       "      <th>45</th>\n",
       "      <td>AAPL220819C00175000</td>\n",
       "      <td>6.757877</td>\n",
       "      <td>0.74</td>\n",
       "      <td>0.015662</td>\n",
       "    </tr>\n",
       "    <tr>\n",
       "      <th>46</th>\n",
       "      <td>AAPL220819C00177500</td>\n",
       "      <td>5.879280</td>\n",
       "      <td>0.24</td>\n",
       "      <td>0.027221</td>\n",
       "    </tr>\n",
       "    <tr>\n",
       "      <th>47</th>\n",
       "      <td>AAPL220819C00180000</td>\n",
       "      <td>5.092253</td>\n",
       "      <td>0.08</td>\n",
       "      <td>0.040744</td>\n",
       "    </tr>\n",
       "    <tr>\n",
       "      <th>48</th>\n",
       "      <td>AAPL220819C00182500</td>\n",
       "      <td>4.391287</td>\n",
       "      <td>0.03</td>\n",
       "      <td>0.054904</td>\n",
       "    </tr>\n",
       "    <tr>\n",
       "      <th>49</th>\n",
       "      <td>AAPL220819C00185000</td>\n",
       "      <td>3.770479</td>\n",
       "      <td>0.02</td>\n",
       "      <td>0.069294</td>\n",
       "    </tr>\n",
       "    <tr>\n",
       "      <th>50</th>\n",
       "      <td>AAPL220819C00187500</td>\n",
       "      <td>3.223693</td>\n",
       "      <td>0.02</td>\n",
       "      <td>0.083743</td>\n",
       "    </tr>\n",
       "    <tr>\n",
       "      <th>51</th>\n",
       "      <td>AAPL220819C00190000</td>\n",
       "      <td>2.744700</td>\n",
       "      <td>0.02</td>\n",
       "      <td>0.098191</td>\n",
       "    </tr>\n",
       "    <tr>\n",
       "      <th>52</th>\n",
       "      <td>AAPL220819C00192500</td>\n",
       "      <td>2.327309</td>\n",
       "      <td>0.01</td>\n",
       "      <td>0.112582</td>\n",
       "    </tr>\n",
       "    <tr>\n",
       "      <th>53</th>\n",
       "      <td>AAPL220819C00195000</td>\n",
       "      <td>1.965468</td>\n",
       "      <td>0.01</td>\n",
       "      <td>0.127030</td>\n",
       "    </tr>\n",
       "    <tr>\n",
       "      <th>54</th>\n",
       "      <td>AAPL220819C00197500</td>\n",
       "      <td>1.653360</td>\n",
       "      <td>0.01</td>\n",
       "      <td>0.141478</td>\n",
       "    </tr>\n",
       "    <tr>\n",
       "      <th>55</th>\n",
       "      <td>AAPL220819C00200000</td>\n",
       "      <td>1.385465</td>\n",
       "      <td>0.01</td>\n",
       "      <td>0.155927</td>\n",
       "    </tr>\n",
       "    <tr>\n",
       "      <th>56</th>\n",
       "      <td>AAPL220819C00205000</td>\n",
       "      <td>0.962022</td>\n",
       "      <td>0.01</td>\n",
       "      <td>0.184823</td>\n",
       "    </tr>\n",
       "    <tr>\n",
       "      <th>57</th>\n",
       "      <td>AAPL220819C00210000</td>\n",
       "      <td>0.658483</td>\n",
       "      <td>0.01</td>\n",
       "      <td>0.213720</td>\n",
       "    </tr>\n",
       "    <tr>\n",
       "      <th>58</th>\n",
       "      <td>AAPL220819C00215000</td>\n",
       "      <td>0.444618</td>\n",
       "      <td>0.01</td>\n",
       "      <td>0.242617</td>\n",
       "    </tr>\n",
       "    <tr>\n",
       "      <th>59</th>\n",
       "      <td>AAPL220819C00220000</td>\n",
       "      <td>0.296362</td>\n",
       "      <td>0.01</td>\n",
       "      <td>0.271514</td>\n",
       "    </tr>\n",
       "    <tr>\n",
       "      <th>60</th>\n",
       "      <td>AAPL220819C00225000</td>\n",
       "      <td>0.195146</td>\n",
       "      <td>0.01</td>\n",
       "      <td>0.300410</td>\n",
       "    </tr>\n",
       "    <tr>\n",
       "      <th>61</th>\n",
       "      <td>AAPL220819C00230000</td>\n",
       "      <td>0.127026</td>\n",
       "      <td>0.01</td>\n",
       "      <td>0.329307</td>\n",
       "    </tr>\n",
       "    <tr>\n",
       "      <th>62</th>\n",
       "      <td>AAPL220819C00235000</td>\n",
       "      <td>0.081793</td>\n",
       "      <td>0.01</td>\n",
       "      <td>0.358204</td>\n",
       "    </tr>\n",
       "    <tr>\n",
       "      <th>63</th>\n",
       "      <td>AAPL220819C00240000</td>\n",
       "      <td>0.052132</td>\n",
       "      <td>0.01</td>\n",
       "      <td>0.387101</td>\n",
       "    </tr>\n",
       "    <tr>\n",
       "      <th>64</th>\n",
       "      <td>AAPL220819C00245000</td>\n",
       "      <td>0.032910</td>\n",
       "      <td>0.03</td>\n",
       "      <td>0.416113</td>\n",
       "    </tr>\n",
       "    <tr>\n",
       "      <th>65</th>\n",
       "      <td>AAPL220819C00250000</td>\n",
       "      <td>0.020589</td>\n",
       "      <td>0.01</td>\n",
       "      <td>0.444894</td>\n",
       "    </tr>\n",
       "    <tr>\n",
       "      <th>66</th>\n",
       "      <td>AAPL220819C00255000</td>\n",
       "      <td>0.012772</td>\n",
       "      <td>0.01</td>\n",
       "      <td>0.473791</td>\n",
       "    </tr>\n",
       "  </tbody>\n",
       "</table>\n",
       "</div>"
      ],
      "text/plain": [
       "         contractSymbol      price    ask      risk\n",
       "37  AAPL220819C00155000  17.488901  17.25 -0.004508\n",
       "38  AAPL220819C00157500  15.778084  14.75 -0.004508\n",
       "39  AAPL220819C00160000  14.170606  12.25 -0.004508\n",
       "40  AAPL220819C00162500  12.669188   9.90 -0.003641\n",
       "41  AAPL220819C00165000  11.275236   7.45 -0.003352\n",
       "42  AAPL220819C00167500   9.988849   5.25 -0.001618\n",
       "43  AAPL220819C00170000   8.808873   3.30  0.001560\n",
       "44  AAPL220819C00172500   7.732998   1.74  0.006993\n",
       "45  AAPL220819C00175000   6.757877   0.74  0.015662\n",
       "46  AAPL220819C00177500   5.879280   0.24  0.027221\n",
       "47  AAPL220819C00180000   5.092253   0.08  0.040744\n",
       "48  AAPL220819C00182500   4.391287   0.03  0.054904\n",
       "49  AAPL220819C00185000   3.770479   0.02  0.069294\n",
       "50  AAPL220819C00187500   3.223693   0.02  0.083743\n",
       "51  AAPL220819C00190000   2.744700   0.02  0.098191\n",
       "52  AAPL220819C00192500   2.327309   0.01  0.112582\n",
       "53  AAPL220819C00195000   1.965468   0.01  0.127030\n",
       "54  AAPL220819C00197500   1.653360   0.01  0.141478\n",
       "55  AAPL220819C00200000   1.385465   0.01  0.155927\n",
       "56  AAPL220819C00205000   0.962022   0.01  0.184823\n",
       "57  AAPL220819C00210000   0.658483   0.01  0.213720\n",
       "58  AAPL220819C00215000   0.444618   0.01  0.242617\n",
       "59  AAPL220819C00220000   0.296362   0.01  0.271514\n",
       "60  AAPL220819C00225000   0.195146   0.01  0.300410\n",
       "61  AAPL220819C00230000   0.127026   0.01  0.329307\n",
       "62  AAPL220819C00235000   0.081793   0.01  0.358204\n",
       "63  AAPL220819C00240000   0.052132   0.01  0.387101\n",
       "64  AAPL220819C00245000   0.032910   0.03  0.416113\n",
       "65  AAPL220819C00250000   0.020589   0.01  0.444894\n",
       "66  AAPL220819C00255000   0.012772   0.01  0.473791"
      ]
     },
     "execution_count": 4,
     "metadata": {},
     "output_type": "execute_result"
    }
   ],
   "source": [
    "def caculate_risk(s, bets):\n",
    "    risk = []\n",
    "    for i in range(bets.shape[0]):\n",
    "        risk.append((symbol_parts(priced_options.iloc[i].contractSymbol)[3]-s+priced_options.iloc[i][\"ask\"])/s)\n",
    "\n",
    "    bets[\"risk\"] = risk\n",
    "\n",
    "caculate_risk(173.03, priced_options)\n",
    "priced_options.sort_values(\"risk\")"
   ]
  },
  {
   "cell_type": "code",
   "execution_count": 5,
   "metadata": {
    "collapsed": false,
    "jupyter": {
     "outputs_hidden": false
    },
    "pycharm": {
     "name": "#%%\n"
    }
   },
   "outputs": [],
   "source": [
    "def return_at_s(s, x, k):\n",
    "    return np.maximum(s-x, 0)-k\n",
    "\n",
    "\n",
    "def return_of_bets_at_s(bets, s):\n",
    "    return np.sum([return_at_s(s, symbol_parts(bets.iloc[i][\"contractSymbol\"])[3], bets.iloc[i][\"ask\"]) for i in range(bets.shape[0])])\n",
    "\n",
    "\n",
    "def del_riskiest(bets, n=1):\n",
    "    bets.drop(bets.tail(n).index,inplace=True)"
   ]
  },
  {
   "cell_type": "code",
   "execution_count": 6,
   "metadata": {
    "collapsed": false,
    "jupyter": {
     "outputs_hidden": false
    },
    "pycharm": {
     "name": "#%%\n"
    }
   },
   "outputs": [],
   "source": [
    "def returns_over_s(s, mu, sigma, bets):\n",
    "    return integrate.quad(lambda x: return_of_bets_at_s(bets, x), s*(1+mu)+sigma, s*(1+mu)-sigma)\n",
    "\n",
    "def lreimann(s, mu, sigma, bets, delx):\n",
    "    x = np.linspace(s*(1+mu)-sigma, s*(1+mu)+sigma, int(delx*2*sigma))\n",
    "    return np.sum([return_of_bets_at_s(bets,x[i])/delx for i in range(len(x)-1)])"
   ]
  },
  {
   "cell_type": "code",
   "execution_count": 7,
   "metadata": {
    "collapsed": false,
    "jupyter": {
     "outputs_hidden": false
    },
    "pycharm": {
     "name": "#%%\n"
    }
   },
   "outputs": [
    {
     "data": {
      "text/plain": [
       "718.2701222865423"
      ]
     },
     "execution_count": 7,
     "metadata": {},
     "output_type": "execute_result"
    }
   ],
   "source": [
    "lreimann(173.03, 0, 17.3, priced_options, 20)"
   ]
  },
  {
   "cell_type": "code",
   "execution_count": 8,
   "metadata": {},
   "outputs": [],
   "source": [
    "def find_max_integral(bets, function):\n",
    "    beg = 0\n",
    "    end = bets.shape[0]\n",
    "    \n",
    "    result = -1\n",
    "    while(beg != end):\n",
    "        mid = (beg + end) // 2\n",
    "        if(function(mid) > function(end)):\n",
    "            end = mid\n",
    "            \n",
    "        else:\n",
    "            beg = mid +1\n",
    "        result = beg\n",
    "\n",
    "    return result"
   ]
  },
  {
   "cell_type": "code",
   "execution_count": 11,
   "metadata": {},
   "outputs": [
    {
     "data": {
      "text/plain": [
       "14"
      ]
     },
     "execution_count": 11,
     "metadata": {},
     "output_type": "execute_result"
    }
   ],
   "source": [
    "find_max_integral(priced_options, lambda m: lreimann(173.03, 0, 17.3, priced_options.iloc[:m], 20))"
   ]
  },
  {
   "cell_type": "code",
   "execution_count": 13,
   "metadata": {},
   "outputs": [
    {
     "name": "stdout",
     "output_type": "stream",
     "text": [
      "721.5509725036188\n",
      "724.7881982633874\n",
      "724.143622286542\n"
     ]
    }
   ],
   "source": [
    "print(lreimann(173.03, 0, 17.3, priced_options.iloc[:13], 20))\n",
    "print(lreimann(173.03, 0, 17.3, priced_options.iloc[:14], 20))\n",
    "print(lreimann(173.03, 0, 17.3, priced_options.iloc[:15], 20))"
   ]
  },
  {
   "cell_type": "code",
   "execution_count": 16,
   "metadata": {},
   "outputs": [
    {
     "data": {
      "text/html": [
       "<div>\n",
       "<style scoped>\n",
       "    .dataframe tbody tr th:only-of-type {\n",
       "        vertical-align: middle;\n",
       "    }\n",
       "\n",
       "    .dataframe tbody tr th {\n",
       "        vertical-align: top;\n",
       "    }\n",
       "\n",
       "    .dataframe thead th {\n",
       "        text-align: right;\n",
       "    }\n",
       "</style>\n",
       "<table border=\"1\" class=\"dataframe\">\n",
       "  <thead>\n",
       "    <tr style=\"text-align: right;\">\n",
       "      <th></th>\n",
       "      <th>contractSymbol</th>\n",
       "      <th>price</th>\n",
       "      <th>ask</th>\n",
       "      <th>risk</th>\n",
       "    </tr>\n",
       "  </thead>\n",
       "  <tbody>\n",
       "    <tr>\n",
       "      <th>37</th>\n",
       "      <td>AAPL220819C00155000</td>\n",
       "      <td>17.488901</td>\n",
       "      <td>17.25</td>\n",
       "      <td>-0.004508</td>\n",
       "    </tr>\n",
       "    <tr>\n",
       "      <th>38</th>\n",
       "      <td>AAPL220819C00157500</td>\n",
       "      <td>15.778084</td>\n",
       "      <td>14.75</td>\n",
       "      <td>-0.004508</td>\n",
       "    </tr>\n",
       "    <tr>\n",
       "      <th>39</th>\n",
       "      <td>AAPL220819C00160000</td>\n",
       "      <td>14.170606</td>\n",
       "      <td>12.25</td>\n",
       "      <td>-0.004508</td>\n",
       "    </tr>\n",
       "    <tr>\n",
       "      <th>40</th>\n",
       "      <td>AAPL220819C00162500</td>\n",
       "      <td>12.669188</td>\n",
       "      <td>9.90</td>\n",
       "      <td>-0.003641</td>\n",
       "    </tr>\n",
       "    <tr>\n",
       "      <th>41</th>\n",
       "      <td>AAPL220819C00165000</td>\n",
       "      <td>11.275236</td>\n",
       "      <td>7.45</td>\n",
       "      <td>-0.003352</td>\n",
       "    </tr>\n",
       "    <tr>\n",
       "      <th>42</th>\n",
       "      <td>AAPL220819C00167500</td>\n",
       "      <td>9.988849</td>\n",
       "      <td>5.25</td>\n",
       "      <td>-0.001618</td>\n",
       "    </tr>\n",
       "    <tr>\n",
       "      <th>43</th>\n",
       "      <td>AAPL220819C00170000</td>\n",
       "      <td>8.808873</td>\n",
       "      <td>3.30</td>\n",
       "      <td>0.001560</td>\n",
       "    </tr>\n",
       "    <tr>\n",
       "      <th>44</th>\n",
       "      <td>AAPL220819C00172500</td>\n",
       "      <td>7.732998</td>\n",
       "      <td>1.74</td>\n",
       "      <td>0.006993</td>\n",
       "    </tr>\n",
       "    <tr>\n",
       "      <th>45</th>\n",
       "      <td>AAPL220819C00175000</td>\n",
       "      <td>6.757877</td>\n",
       "      <td>0.74</td>\n",
       "      <td>0.015662</td>\n",
       "    </tr>\n",
       "    <tr>\n",
       "      <th>46</th>\n",
       "      <td>AAPL220819C00177500</td>\n",
       "      <td>5.879280</td>\n",
       "      <td>0.24</td>\n",
       "      <td>0.027221</td>\n",
       "    </tr>\n",
       "    <tr>\n",
       "      <th>47</th>\n",
       "      <td>AAPL220819C00180000</td>\n",
       "      <td>5.092253</td>\n",
       "      <td>0.08</td>\n",
       "      <td>0.040744</td>\n",
       "    </tr>\n",
       "    <tr>\n",
       "      <th>48</th>\n",
       "      <td>AAPL220819C00182500</td>\n",
       "      <td>4.391287</td>\n",
       "      <td>0.03</td>\n",
       "      <td>0.054904</td>\n",
       "    </tr>\n",
       "    <tr>\n",
       "      <th>49</th>\n",
       "      <td>AAPL220819C00185000</td>\n",
       "      <td>3.770479</td>\n",
       "      <td>0.02</td>\n",
       "      <td>0.069294</td>\n",
       "    </tr>\n",
       "    <tr>\n",
       "      <th>50</th>\n",
       "      <td>AAPL220819C00187500</td>\n",
       "      <td>3.223693</td>\n",
       "      <td>0.02</td>\n",
       "      <td>0.083743</td>\n",
       "    </tr>\n",
       "  </tbody>\n",
       "</table>\n",
       "</div>"
      ],
      "text/plain": [
       "         contractSymbol      price    ask      risk\n",
       "37  AAPL220819C00155000  17.488901  17.25 -0.004508\n",
       "38  AAPL220819C00157500  15.778084  14.75 -0.004508\n",
       "39  AAPL220819C00160000  14.170606  12.25 -0.004508\n",
       "40  AAPL220819C00162500  12.669188   9.90 -0.003641\n",
       "41  AAPL220819C00165000  11.275236   7.45 -0.003352\n",
       "42  AAPL220819C00167500   9.988849   5.25 -0.001618\n",
       "43  AAPL220819C00170000   8.808873   3.30  0.001560\n",
       "44  AAPL220819C00172500   7.732998   1.74  0.006993\n",
       "45  AAPL220819C00175000   6.757877   0.74  0.015662\n",
       "46  AAPL220819C00177500   5.879280   0.24  0.027221\n",
       "47  AAPL220819C00180000   5.092253   0.08  0.040744\n",
       "48  AAPL220819C00182500   4.391287   0.03  0.054904\n",
       "49  AAPL220819C00185000   3.770479   0.02  0.069294\n",
       "50  AAPL220819C00187500   3.223693   0.02  0.083743"
      ]
     },
     "execution_count": 16,
     "metadata": {},
     "output_type": "execute_result"
    }
   ],
   "source": [
    "priced_options.iloc[:14]"
   ]
  },
  {
   "cell_type": "code",
   "execution_count": null,
   "metadata": {},
   "outputs": [],
   "source": []
  }
 ],
 "metadata": {
  "kernelspec": {
   "display_name": "Python 3 (ipykernel)",
   "language": "python",
   "name": "python3"
  },
  "language_info": {
   "codemirror_mode": {
    "name": "ipython",
    "version": 3
   },
   "file_extension": ".py",
   "mimetype": "text/x-python",
   "name": "python",
   "nbconvert_exporter": "python",
   "pygments_lexer": "ipython3",
   "version": "3.10.4"
  }
 },
 "nbformat": 4,
 "nbformat_minor": 4
}
